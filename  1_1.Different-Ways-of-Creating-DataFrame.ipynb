{
 "cells": [
  {
   "cell_type": "markdown",
   "id": "23878ea1",
   "metadata": {},
   "source": [
    "<ul>\n",
    "    <li>Using CSV</li>\n",
    "    <li>Using Excel</li>\n",
    "    <li>Using Dictionary</li>\n",
    "    <li>Using Tuples list</li>\n",
    "    <li>Using list of dictionaries</li>\n",
    "    \n",
    "</Ul>"
   ]
  },
  {
   "cell_type": "code",
   "execution_count": 3,
   "id": "fb825454",
   "metadata": {},
   "outputs": [],
   "source": [
    "import pandas as pd"
   ]
  },
  {
   "cell_type": "markdown",
   "id": "a07d4146",
   "metadata": {},
   "source": [
    "## Using CSV"
   ]
  },
  {
   "cell_type": "code",
   "execution_count": 2,
   "id": "a37e0691",
   "metadata": {},
   "outputs": [
    {
     "data": {
      "text/html": [
       "<div>\n",
       "<style scoped>\n",
       "    .dataframe tbody tr th:only-of-type {\n",
       "        vertical-align: middle;\n",
       "    }\n",
       "\n",
       "    .dataframe tbody tr th {\n",
       "        vertical-align: top;\n",
       "    }\n",
       "\n",
       "    .dataframe thead th {\n",
       "        text-align: right;\n",
       "    }\n",
       "</style>\n",
       "<table border=\"1\" class=\"dataframe\">\n",
       "  <thead>\n",
       "    <tr style=\"text-align: right;\">\n",
       "      <th></th>\n",
       "      <th>day</th>\n",
       "      <th>temperature</th>\n",
       "      <th>windspeed</th>\n",
       "      <th>event</th>\n",
       "    </tr>\n",
       "  </thead>\n",
       "  <tbody>\n",
       "    <tr>\n",
       "      <th>0</th>\n",
       "      <td>1/1/2023</td>\n",
       "      <td>27</td>\n",
       "      <td>3</td>\n",
       "      <td>Cloudy</td>\n",
       "    </tr>\n",
       "    <tr>\n",
       "      <th>1</th>\n",
       "      <td>1/2/2023</td>\n",
       "      <td>31</td>\n",
       "      <td>6</td>\n",
       "      <td>Rainy</td>\n",
       "    </tr>\n",
       "    <tr>\n",
       "      <th>2</th>\n",
       "      <td>1/3/2023</td>\n",
       "      <td>34</td>\n",
       "      <td>9</td>\n",
       "      <td>Sunny</td>\n",
       "    </tr>\n",
       "  </tbody>\n",
       "</table>\n",
       "</div>"
      ],
      "text/plain": [
       "        day  temperature  windspeed   event\n",
       "0  1/1/2023           27          3  Cloudy\n",
       "1  1/2/2023           31          6   Rainy\n",
       "2  1/3/2023           34          9   Sunny"
      ]
     },
     "execution_count": 2,
     "metadata": {},
     "output_type": "execute_result"
    }
   ],
   "source": [
    "df = pd.read_csv('climate_data.csv')\n",
    "df"
   ]
  },
  {
   "cell_type": "markdown",
   "id": "5fe50e09",
   "metadata": {},
   "source": [
    "## Using Excel"
   ]
  },
  {
   "cell_type": "code",
   "execution_count": 5,
   "id": "77b3a60c",
   "metadata": {},
   "outputs": [
    {
     "data": {
      "text/html": [
       "<div>\n",
       "<style scoped>\n",
       "    .dataframe tbody tr th:only-of-type {\n",
       "        vertical-align: middle;\n",
       "    }\n",
       "\n",
       "    .dataframe tbody tr th {\n",
       "        vertical-align: top;\n",
       "    }\n",
       "\n",
       "    .dataframe thead th {\n",
       "        text-align: right;\n",
       "    }\n",
       "</style>\n",
       "<table border=\"1\" class=\"dataframe\">\n",
       "  <thead>\n",
       "    <tr style=\"text-align: right;\">\n",
       "      <th></th>\n",
       "      <th>day</th>\n",
       "      <th>temperature</th>\n",
       "      <th>windspeed</th>\n",
       "      <th>event</th>\n",
       "    </tr>\n",
       "  </thead>\n",
       "  <tbody>\n",
       "    <tr>\n",
       "      <th>0</th>\n",
       "      <td>2023-01-01</td>\n",
       "      <td>27</td>\n",
       "      <td>3</td>\n",
       "      <td>Cloudy</td>\n",
       "    </tr>\n",
       "    <tr>\n",
       "      <th>1</th>\n",
       "      <td>2023-01-02</td>\n",
       "      <td>31</td>\n",
       "      <td>6</td>\n",
       "      <td>Rainy</td>\n",
       "    </tr>\n",
       "    <tr>\n",
       "      <th>2</th>\n",
       "      <td>2023-01-03</td>\n",
       "      <td>34</td>\n",
       "      <td>9</td>\n",
       "      <td>Sunny</td>\n",
       "    </tr>\n",
       "  </tbody>\n",
       "</table>\n",
       "</div>"
      ],
      "text/plain": [
       "         day  temperature  windspeed   event\n",
       "0 2023-01-01           27          3  Cloudy\n",
       "1 2023-01-02           31          6   Rainy\n",
       "2 2023-01-03           34          9   Sunny"
      ]
     },
     "execution_count": 5,
     "metadata": {},
     "output_type": "execute_result"
    }
   ],
   "source": [
    "df = pd.read_excel(\"climate_data.xlsx\")\n",
    "df"
   ]
  },
  {
   "cell_type": "markdown",
   "id": "eaf15282",
   "metadata": {},
   "source": [
    "## Using Dictionary"
   ]
  },
  {
   "cell_type": "code",
   "execution_count": 9,
   "id": "8ddc5bc7",
   "metadata": {},
   "outputs": [
    {
     "data": {
      "text/html": [
       "<div>\n",
       "<style scoped>\n",
       "    .dataframe tbody tr th:only-of-type {\n",
       "        vertical-align: middle;\n",
       "    }\n",
       "\n",
       "    .dataframe tbody tr th {\n",
       "        vertical-align: top;\n",
       "    }\n",
       "\n",
       "    .dataframe thead th {\n",
       "        text-align: right;\n",
       "    }\n",
       "</style>\n",
       "<table border=\"1\" class=\"dataframe\">\n",
       "  <thead>\n",
       "    <tr style=\"text-align: right;\">\n",
       "      <th></th>\n",
       "      <th>Date</th>\n",
       "      <th>Temperature</th>\n",
       "      <th>Wind_speed</th>\n",
       "      <th>Weather</th>\n",
       "    </tr>\n",
       "  </thead>\n",
       "  <tbody>\n",
       "    <tr>\n",
       "      <th>0</th>\n",
       "      <td>1-01-2024</td>\n",
       "      <td>27</td>\n",
       "      <td>3</td>\n",
       "      <td>Cloudy</td>\n",
       "    </tr>\n",
       "    <tr>\n",
       "      <th>1</th>\n",
       "      <td>1-02-2024</td>\n",
       "      <td>28</td>\n",
       "      <td>6</td>\n",
       "      <td>Rainy</td>\n",
       "    </tr>\n",
       "    <tr>\n",
       "      <th>2</th>\n",
       "      <td>1-03-2024</td>\n",
       "      <td>32</td>\n",
       "      <td>4</td>\n",
       "      <td>Sunny</td>\n",
       "    </tr>\n",
       "  </tbody>\n",
       "</table>\n",
       "</div>"
      ],
      "text/plain": [
       "        Date  Temperature  Wind_speed Weather\n",
       "0  1-01-2024           27           3  Cloudy\n",
       "1  1-02-2024           28           6   Rainy\n",
       "2  1-03-2024           32           4   Sunny"
      ]
     },
     "execution_count": 9,
     "metadata": {},
     "output_type": "execute_result"
    }
   ],
   "source": [
    "# key will column, value will data\n",
    "\n",
    "climate_data ={\n",
    "        \"Date\":['1-01-2024','1-02-2024','1-03-2024'],\n",
    "        \"Temperature\":[27,28,32],\n",
    "        \"Wind_speed\" : [3,6,4],\n",
    "        \"Weather\":[\"Cloudy\",\"Rainy\",\"Sunny\"]\n",
    "    }\n",
    "\n",
    "df = pd.DataFrame(climate_data)\n",
    "df"
   ]
  },
  {
   "cell_type": "markdown",
   "id": "4762a2f9",
   "metadata": {},
   "source": [
    "## Using tuple list"
   ]
  },
  {
   "cell_type": "code",
   "execution_count": 14,
   "id": "cec29e4e",
   "metadata": {},
   "outputs": [
    {
     "data": {
      "text/html": [
       "<div>\n",
       "<style scoped>\n",
       "    .dataframe tbody tr th:only-of-type {\n",
       "        vertical-align: middle;\n",
       "    }\n",
       "\n",
       "    .dataframe tbody tr th {\n",
       "        vertical-align: top;\n",
       "    }\n",
       "\n",
       "    .dataframe thead th {\n",
       "        text-align: right;\n",
       "    }\n",
       "</style>\n",
       "<table border=\"1\" class=\"dataframe\">\n",
       "  <thead>\n",
       "    <tr style=\"text-align: right;\">\n",
       "      <th></th>\n",
       "      <th>Date</th>\n",
       "      <th>Temperature</th>\n",
       "      <th>Wind_speed</th>\n",
       "      <th>weather</th>\n",
       "    </tr>\n",
       "  </thead>\n",
       "  <tbody>\n",
       "    <tr>\n",
       "      <th>x</th>\n",
       "      <td>1-01-2024</td>\n",
       "      <td>27</td>\n",
       "      <td>3</td>\n",
       "      <td>Cloudy</td>\n",
       "    </tr>\n",
       "    <tr>\n",
       "      <th>y</th>\n",
       "      <td>1-02-2024</td>\n",
       "      <td>25</td>\n",
       "      <td>6</td>\n",
       "      <td>Rainy</td>\n",
       "    </tr>\n",
       "    <tr>\n",
       "      <th>z</th>\n",
       "      <td>1-03-2024</td>\n",
       "      <td>23</td>\n",
       "      <td>2</td>\n",
       "      <td>Sunny</td>\n",
       "    </tr>\n",
       "  </tbody>\n",
       "</table>\n",
       "</div>"
      ],
      "text/plain": [
       "        Date  Temperature  Wind_speed weather\n",
       "x  1-01-2024           27           3  Cloudy\n",
       "y  1-02-2024           25           6   Rainy\n",
       "z  1-03-2024           23           2   Sunny"
      ]
     },
     "execution_count": 14,
     "metadata": {},
     "output_type": "execute_result"
    }
   ],
   "source": [
    "climate_data=[('1-01-2024',27,3,'Cloudy'),\n",
    "              ('1-02-2024',25,6,'Rainy'),\n",
    "              ('1-03-2024',23,2,'Sunny')\n",
    "             ]\n",
    "df = pd.DataFrame(data=climate_data,index=['x','y','z'],columns=['Date','Temperature','Wind_speed','weather'])\n",
    "df"
   ]
  },
  {
   "cell_type": "markdown",
   "id": "e659b0bc",
   "metadata": {},
   "source": [
    "## Using list of dictionaries"
   ]
  },
  {
   "cell_type": "code",
   "execution_count": 16,
   "id": "f2c4dae7",
   "metadata": {},
   "outputs": [
    {
     "data": {
      "text/html": [
       "<div>\n",
       "<style scoped>\n",
       "    .dataframe tbody tr th:only-of-type {\n",
       "        vertical-align: middle;\n",
       "    }\n",
       "\n",
       "    .dataframe tbody tr th {\n",
       "        vertical-align: top;\n",
       "    }\n",
       "\n",
       "    .dataframe thead th {\n",
       "        text-align: right;\n",
       "    }\n",
       "</style>\n",
       "<table border=\"1\" class=\"dataframe\">\n",
       "  <thead>\n",
       "    <tr style=\"text-align: right;\">\n",
       "      <th></th>\n",
       "      <th>Date</th>\n",
       "      <th>Temperature</th>\n",
       "      <th>Wind_speed</th>\n",
       "      <th>Weather</th>\n",
       "    </tr>\n",
       "  </thead>\n",
       "  <tbody>\n",
       "    <tr>\n",
       "      <th>0</th>\n",
       "      <td>1-01-2024</td>\n",
       "      <td>27</td>\n",
       "      <td>3</td>\n",
       "      <td>Cloudy</td>\n",
       "    </tr>\n",
       "    <tr>\n",
       "      <th>1</th>\n",
       "      <td>1-02-2024</td>\n",
       "      <td>25</td>\n",
       "      <td>7</td>\n",
       "      <td>Rainy</td>\n",
       "    </tr>\n",
       "    <tr>\n",
       "      <th>2</th>\n",
       "      <td>1-03-2024</td>\n",
       "      <td>24</td>\n",
       "      <td>2</td>\n",
       "      <td>Sunny</td>\n",
       "    </tr>\n",
       "  </tbody>\n",
       "</table>\n",
       "</div>"
      ],
      "text/plain": [
       "        Date  Temperature  Wind_speed Weather\n",
       "0  1-01-2024           27           3  Cloudy\n",
       "1  1-02-2024           25           7   Rainy\n",
       "2  1-03-2024           24           2   Sunny"
      ]
     },
     "execution_count": 16,
     "metadata": {},
     "output_type": "execute_result"
    }
   ],
   "source": [
    "climate_data =[\n",
    "    { \"Date\":'1-01-2024', \"Temperature\":27, \"Wind_speed\" : 3, \"Weather\":\"Cloudy\"},\n",
    "     { \"Date\":'1-02-2024', \"Temperature\":25, \"Wind_speed\" : 7, \"Weather\":\"Rainy\"},\n",
    "     { \"Date\":'1-03-2024', \"Temperature\":24, \"Wind_speed\" : 2, \"Weather\":\"Sunny\"}\n",
    "]\n",
    "\n",
    "df = pd.DataFrame(data=climate_data,columns=['Date','Temperature','Wind_speed','Weather'])\n",
    "df"
   ]
  }
 ],
 "metadata": {
  "kernelspec": {
   "display_name": "Python 3 (ipykernel)",
   "language": "python",
   "name": "python3"
  },
  "language_info": {
   "codemirror_mode": {
    "name": "ipython",
    "version": 3
   },
   "file_extension": ".py",
   "mimetype": "text/x-python",
   "name": "python",
   "nbconvert_exporter": "python",
   "pygments_lexer": "ipython3",
   "version": "3.11.5"
  }
 },
 "nbformat": 4,
 "nbformat_minor": 5
}
